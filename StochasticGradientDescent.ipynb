{
 "cells": [
  {
   "cell_type": "markdown",
   "id": "6a984a3e",
   "metadata": {},
   "source": [
    "# 확률적 경사 하강법(StochasticGradientDescent)\n",
    "\n",
    "- 훈련 세트에서 랜덤(확률적)하게 하나의 샘픙르 선택하여 가파른 경사를 조금씩 내려감\n",
    "- 그 다음 훈련 세트에서 랜덤하게 또 다른 샘플을 하나 선택하여 경사를 조금 내려감\n",
    "- 이런 식으로 전체 샘플을 모두 사용할 때까지 계속함\n",
    "- 전체 샘플을 모두 사용했지만 최적점을 찾지 못하면 다시 훈련 세트에 모든 샘플을 채워 넣어 위의 과정을 반복\n",
    "- 만족할만한 위치(최적점)에 도달할 때까지 계속해서 반복하는 방법이 \"확률적 경사 하강법\"\n",
    "- 확률적 경사 하강법에서 훈련 세트를 한 번 모두 사용하는 과정 = \"에포크(epoch)\"\n",
    "- 일반적으로 경사 하강법은 수십, 수백 번 이상 에포크를 수행"
   ]
  },
  {
   "cell_type": "markdown",
   "id": "6ed45130",
   "metadata": {},
   "source": [
    "- 무작위로 샘플을 선택해 최적점을 찾아 하강하는 것은 오류를 범할 수 있기 때문에 아주 조금씩 하강하는 것이 중요\n",
    "- 여러 개의 샘픙르 사용해 경사 하강법을 수행하는 방식 =\"미니배치 경사 하강법(minibatch gradient descent)\"\n",
    "- 한 번 경사로를 따라 이동하기 위해 훈련 세트의 전체 샘플을 사용하는 방식 =\"배치 경사 하강법(batch gradietn descent)\"\n"
   ]
  },
  {
   "cell_type": "markdown",
   "id": "f6db68e4",
   "metadata": {},
   "source": [
    "### 정리\n",
    "\n",
    "- 훈련 세트에서 샘플을\n",
    "- 1개씩 꺼내기 = 확률적 경사 하강법\n",
    "- 여러 개씩 꺼내기 = 미니배치 경사 하강법\n",
    "- 전체 다 꺼내기 = 배치 경사 하강법\n",
    "- 어떤 방법이 됐든 훈련 세트의 모든 샘플을 사용하도록 반복을 하게 되는데 전체 샘플을 한 번 다 사용하면 \"1 에포크 완료\"\n",
    "- 훈련 세트를 다 사용했지만 최적점을 찾지 못하면 훈련 세트에 샘플을 모두 채우고 다시 시작"
   ]
  },
  {
   "cell_type": "markdown",
   "id": "5e503244",
   "metadata": {},
   "source": [
    "## 손실 함수 (Loss Function)\n",
    "\n",
    "- 어떤 문제에서 머신러닝 알고리즘이 얼마나 엉터리인지를 측정하는 기준\n",
    "- 따라서 손실 함수의 값이 작을 수록 좋은 머신러닝 알고리즘\n",
    "- 어떤 값이 최솟값인지 알지 못하기 때문에 이 값을 찾아서 조금씩 이동하기 위해 확률적 경사 하강법을 활용함\n",
    "- 손실함수는 연속적이어야 한다 = 미분 가능해야 한다"
   ]
  },
  {
   "cell_type": "markdown",
   "id": "37b3258c",
   "metadata": {},
   "source": [
    "# 확률적 경사 하강법을 사용한 분류 모델"
   ]
  },
  {
   "cell_type": "code",
   "execution_count": 1,
   "id": "7fb49593",
   "metadata": {},
   "outputs": [],
   "source": [
    "# 데이터 준비\n",
    "\n",
    "import pandas as pd\n",
    "\n",
    "fish = pd.read_csv('https://bit.ly/fish_csv_data')\n",
    "\n",
    "fish_input = fish[['Weight', 'Length', 'Diagonal', 'Height', 'Width']].to_numpy()\n",
    "fish_target = fish['Species'].to_numpy()"
   ]
  },
  {
   "cell_type": "code",
   "execution_count": 2,
   "id": "936fe2ca",
   "metadata": {},
   "outputs": [],
   "source": [
    "# 훈련 세트와 테스트 세트\n",
    "\n",
    "from sklearn.model_selection import train_test_split\n",
    "\n",
    "train_input, test_input, train_target, test_target = train_test_split(fish_input, fish_target, random_state = 42)"
   ]
  },
  {
   "cell_type": "code",
   "execution_count": 3,
   "id": "273545fa",
   "metadata": {},
   "outputs": [],
   "source": [
    "# 훈련 세트와 테스트 세트의 특성을 표준화 전처리\n",
    "\n",
    "from sklearn.preprocessing import StandardScaler\n",
    "\n",
    "ss = StandardScaler()\n",
    "ss.fit(train_input)\n",
    "\n",
    "train_scaled = ss.transform(train_input)\n",
    "test_scaled = ss.transform(test_input)"
   ]
  },
  {
   "cell_type": "code",
   "execution_count": 5,
   "id": "5bdb1881",
   "metadata": {
    "scrolled": true
   },
   "outputs": [
    {
     "name": "stdout",
     "output_type": "stream",
     "text": [
      "0.773109243697479\n",
      "0.775\n"
     ]
    },
    {
     "name": "stderr",
     "output_type": "stream",
     "text": [
      "C:\\Users\\82105\\anaconda3\\lib\\site-packages\\sklearn\\linear_model\\_stochastic_gradient.py:574: ConvergenceWarning: Maximum number of iteration reached before convergence. Consider increasing max_iter to improve the fit.\n",
      "  warnings.warn(\"Maximum number of iteration reached before \"\n"
     ]
    }
   ],
   "source": [
    "# SGDClassifier\n",
    "# 사이킷런에서 확률적 경사 하강법을 제공하는 대표적인 분류용 클래스\n",
    "\n",
    "from sklearn.linear_model import SGDClassifier\n",
    "\n",
    "# 객체를 만들 때 2개의 매개변수를 지정\n",
    "# loss = 손실함수의 종류(log = 로지스틱 손실 함수)\n",
    "# max_iter = 수행할 에포크 횟수\n",
    "\n",
    "sc = SGDClassifier(loss='log', max_iter = 10, random_state = 42)\n",
    "sc.fit(train_scaled, train_target)\n",
    "\n",
    "print(sc.score(train_scaled, train_target))\n",
    "print(sc.score(test_scaled, test_target))"
   ]
  },
  {
   "cell_type": "markdown",
   "id": "1467d71f",
   "metadata": {},
   "source": [
    "- 위의 훈련 세트와 테스트 세트 정확도가 낮음\n",
    "- 10 에포크로는 부족\n",
    "- 확률적 경사 하강법은 점진적 학습이 가능 = 훈련을 다시 하기 위해서 SGDClassifier 객체를 다시 만들지 않고 훈련한 모델 sc로 추가 훈련 가능\n",
    "- 모델을 이어서 훈련할 때는 fit()메서드 대신 partial_fit() 메서드 사용\n",
    "- fit() 메서드와 사용법은 같지만 호출할 때마다 1 에포크씩 이어서 훈련할 수 있음"
   ]
  },
  {
   "cell_type": "code",
   "execution_count": 7,
   "id": "493eb684",
   "metadata": {},
   "outputs": [
    {
     "name": "stdout",
     "output_type": "stream",
     "text": [
      "0.8151260504201681\n",
      "0.85\n"
     ]
    }
   ],
   "source": [
    "sc.partial_fit(train_scaled, train_target)\n",
    "\n",
    "print(sc.score(train_scaled, train_target))\n",
    "print(sc.score(test_scaled, test_target))"
   ]
  },
  {
   "cell_type": "markdown",
   "id": "6a6cfe31",
   "metadata": {},
   "source": [
    "- 에포크를 한 번 더 실행하니 정확도 향상\n",
    "- 하지만 아직 점수가 낮아 더 수행해야할 듯 함\n",
    "- 무작정 많이 반복할 수가 없으니 반복할 기준이 필요"
   ]
  },
  {
   "cell_type": "markdown",
   "id": "a68593f5",
   "metadata": {},
   "source": [
    "- 확률적 경사 하강법을 사용한 모델은 에포크 횟수에 따라 overfitting, underfitting 될 수 있음\n",
    "- 에포크 횟수가 적다 = 모델이 훈련 세트를 덜 학습한다 = underfitting 될 가능성이 커진다\n",
    "- 에포크 횟수가 많다 = 모델이 훈련 세트에 너무 잘 맞는다 = overfitting 될 가능성이 커진다\n",
    "- 훈련 세트 점수는 에포크가 진행될수록 꾸준히 증가\n",
    "- 테스트 세트 점수는 어느 순간 감소하기 시작 = overfitting이 시작되는 곳\n",
    "- 이 지점 전에 훈련을 멈추는 것을 \"조기 종료(early stopping)\""
   ]
  },
  {
   "cell_type": "code",
   "execution_count": 9,
   "id": "2ed6125a",
   "metadata": {},
   "outputs": [],
   "source": [
    "# partial_fit() 메서드만 사용하여 에포크 횟수에 따른 overfitting, underfitting 지점 확인해보기\n",
    "\n",
    "import numpy as np\n",
    "\n",
    "sc = SGDClassifier(loss='log', random_state = 42)\n",
    "\n",
    "# 훈련 세트, 테스트 세트 점수를 에포크 횟수에 따라 그래프로 그리기 위해 각 점수의 리스트 생성\n",
    "train_score = []\n",
    "test_score = []\n",
    "\n",
    "# fit()을 사용하지 않고 partial_fit()만 사용하기 위해서는 훈련 세트에 있는 전체 클래스의 레이블을 전달해줘야함\n",
    "# 이를 위해 np.unique() 메서드를 train_target에 적용\n",
    "\n",
    "classes = np.unique(train_target)\n",
    "\n",
    "# 에포크 300회 돌려보기\n",
    "for _ in range(0, 300) :\n",
    "    sc.partial_fit(train_scaled, train_target, classes=classes)\n",
    "    train_score.append(sc.score(train_scaled, train_target))\n",
    "    test_score.append(sc.score(test_scaled, test_target))"
   ]
  },
  {
   "cell_type": "code",
   "execution_count": 13,
   "id": "dede721f",
   "metadata": {
    "scrolled": true
   },
   "outputs": [
    {
     "data": {
      "image/png": "[encoded data removed]",
      "text/plain": [
       "<Figure size 432x288 with 1 Axes>"
      ]
     },
     "metadata": {
      "needs_background": "light"
     },
     "output_type": "display_data"
    }
   ],
   "source": [
    "# train_score, test_score 그래프로 나타내기\n",
    "\n",
    "import matplotlib.pyplot as plt\n",
    "\n",
    "plt.plot(train_score, label = 'train score')\n",
    "plt.plot(test_score, label = 'test score')\n",
    "plt.xlabel('epoch')\n",
    "plt.ylabel('accuracy')\n",
    "plt.legend()\n",
    "plt.show()"
   ]
  },
  {
   "cell_type": "markdown",
   "id": "09da803e",
   "metadata": {},
   "source": [
    "- 에포크 초기에는 두 세트 점수 모두 낮은 underfitting의 모습을 보여주고 있음\n",
    "- 100 번째 에포크 이후에는 훈련 세트와 테스트 세트의 점수가 조금씩 벌어지고 있음 -> overfitting이 심해지고 있음\n",
    "- 100 번째 에포크가 적절한 반복 횟수로 보이니 max_iter = 100으로 두고 다시 모델을 훈련해보자"
   ]
  },
  {
   "cell_type": "code",
   "execution_count": 14,
   "id": "5278a6d6",
   "metadata": {},
   "outputs": [
    {
     "name": "stdout",
     "output_type": "stream",
     "text": [
      "0.957983193277311\n",
      "0.925\n"
     ]
    }
   ],
   "source": [
    "sc = SGDClassifier(loss='log', max_iter = 100, tol=None, random_state = 42)\n",
    "sc.fit(train_scaled, train_target)\n",
    "\n",
    "print(sc.score(train_scaled, train_target))\n",
    "print(sc.score(test_scaled, test_target))"
   ]
  },
  {
   "cell_type": "markdown",
   "id": "c02f3597",
   "metadata": {},
   "source": [
    "- 원래 SGDClassifier 클래스는 일정 에포크 동안 성능이 향상되지 않으면 더 훈련하지 않고 자동으로 멈춤\n",
    "- 즉 max_iter가 아무리 높아도 반복 중 성능 향상이 멈추면 반복을 자동으로 멈추게 된다\n",
    "- 매개변수 tol = None으로 주면 자동으로 멈추지 않고 지정한 max_iter 값만큼 무조건 반복하게 됨"
   ]
  }
 ],
 "metadata": {
  "kernelspec": {
   "display_name": "Python 3",
   "language": "python",
   "name": "python3"
  },
  "language_info": {
   "codemirror_mode": {
    "name": "ipython",
    "version": 3
   },
   "file_extension": ".py",
   "mimetype": "text/x-python",
   "name": "python",
   "nbconvert_exporter": "python",
   "pygments_lexer": "ipython3",
   "version": "3.8.8"
  }
 },
 "nbformat": 4,
 "nbformat_minor": 5
}
