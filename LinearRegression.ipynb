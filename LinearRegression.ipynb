{
 "cells": [
  {
   "cell_type": "code",
   "execution_count": 2,
   "id": "119b96be",
   "metadata": {},
   "outputs": [],
   "source": [
    "# k-최근접 이웃의 한계\n",
    "# http://bit.ly/perch_data\n",
    "\n",
    "import numpy as np\n",
    "\n",
    "perch_length = np.array([8.4, 13.7, 15.0, 16.2, 17.4, 18.0, 18.7, 19.0, 19.6, 20.0, 21.0,\n",
    "       21.0, 21.0, 21.3, 22.0, 22.0, 22.0, 22.0, 22.0, 22.5, 22.5, 22.7,\n",
    "       23.0, 23.5, 24.0, 24.0, 24.6, 25.0, 25.6, 26.5, 27.3, 27.5, 27.5,\n",
    "       27.5, 28.0, 28.7, 30.0, 32.8, 34.5, 35.0, 36.5, 36.0, 37.0, 37.0,\n",
    "       39.0, 39.0, 39.0, 40.0, 40.0, 40.0, 40.0, 42.0, 43.0, 43.0, 43.5,\n",
    "       44.0])\n",
    "perch_weight = np.array([5.9, 32.0, 40.0, 51.5, 70.0, 100.0, 78.0, 80.0, 85.0, 85.0, 110.0,\n",
    "       115.0, 125.0, 130.0, 120.0, 120.0, 130.0, 135.0, 110.0, 130.0,\n",
    "       150.0, 145.0, 150.0, 170.0, 225.0, 145.0, 188.0, 180.0, 197.0,\n",
    "       218.0, 300.0, 260.0, 265.0, 250.0, 250.0, 300.0, 320.0, 514.0,\n",
    "       556.0, 840.0, 685.0, 700.0, 700.0, 690.0, 900.0, 650.0, 820.0,\n",
    "       850.0, 900.0, 1015.0, 820.0, 1100.0, 1000.0, 1100.0, 1000.0,\n",
    "       1000.0])"
   ]
  },
  {
   "cell_type": "code",
   "execution_count": 4,
   "id": "8f20c459",
   "metadata": {},
   "outputs": [],
   "source": [
    "from sklearn.model_selection import train_test_split\n",
    "\n",
    "train_input, test_input, train_target, test_target = train_test_split(perch_length, perch_weight, random_state = 42)"
   ]
  },
  {
   "cell_type": "code",
   "execution_count": 5,
   "id": "e832fd7e",
   "metadata": {},
   "outputs": [],
   "source": [
    "train_input = train_input.reshape(-1, 1)\n",
    "test_input = test_input.reshape(-1, 1)"
   ]
  },
  {
   "cell_type": "code",
   "execution_count": 6,
   "id": "c4f4d727",
   "metadata": {},
   "outputs": [
    {
     "data": {
      "text/plain": [
       "KNeighborsRegressor(n_neighbors=3)"
      ]
     },
     "execution_count": 6,
     "metadata": {},
     "output_type": "execute_result"
    }
   ],
   "source": [
    "from sklearn.neighbors import KNeighborsRegressor\n",
    "\n",
    "knr = KNeighborsRegressor(n_neighbors = 3)\n",
    "\n",
    "knr.fit(train_input, train_target)"
   ]
  },
  {
   "cell_type": "code",
   "execution_count": 7,
   "id": "a14f5c3f",
   "metadata": {},
   "outputs": [
    {
     "name": "stdout",
     "output_type": "stream",
     "text": [
      "[1033.33333333]\n"
     ]
    }
   ],
   "source": [
    "# 만약 길이가 50cm인 농어의 무게를 예측하고 싶다면?\n",
    "# knn 회귀 모델로 예측을 했을 때 50cm 길이의 농어의 무게가 현저히 낮게 예측됨\n",
    "\n",
    "print(knr.predict([[50]]))"
   ]
  },
  {
   "cell_type": "code",
   "execution_count": 8,
   "id": "0d028015",
   "metadata": {
    "scrolled": true
   },
   "outputs": [
    {
     "data": {
      "image/png": "[encoded data removed]",
      "text/plain": [
       "<Figure size 432x288 with 1 Axes>"
      ]
     },
     "metadata": {
      "needs_background": "light"
     },
     "output_type": "display_data"
    }
   ],
   "source": [
    "# 그 이유는?\n",
    "\n",
    "import matplotlib.pyplot as plt\n",
    "\n",
    "# 50cm 농어의 이웃을 찍어보기\n",
    "distances, indexes = knr.kneighbors([[50]])\n",
    "\n",
    "plt.scatter(train_input, train_target)\n",
    "\n",
    "# 이웃된 샘플은 다이아몬드 모양으로 그리기\n",
    "plt.scatter(train_input[indexes], train_target[indexes], marker='D')\n",
    "\n",
    "plt.scatter(50, 1033, marker='^')\n",
    "plt.xlabel('length')\n",
    "plt.ylabel('weight')\n",
    "\n",
    "plt.show()"
   ]
  },
  {
   "cell_type": "markdown",
   "id": "c082d14e",
   "metadata": {},
   "source": [
    "- 길이가 50cm이고 무게가 1033g이라고 가정한 농어의 데이터는 세모로 표시\n",
    "- 50cm에서 가장 가까운 농어의 샘플들은 대략 45cm 농어의 무게이므로 k-최근접 이웃 알고리즘은 이 샘플들의 무게를 평균한다\n",
    "- 그러므로 50cm 길이의 농어의 무게가 45cm 길이의 농어의 무게와 비슷하게 나오게 되는 것"
   ]
  },
  {
   "cell_type": "code",
   "execution_count": 9,
   "id": "fa4e5028",
   "metadata": {},
   "outputs": [
    {
     "name": "stdout",
     "output_type": "stream",
     "text": [
      "[1033.33333333]\n"
     ]
    }
   ],
   "source": [
    "# 길이가 현저히 긴 100cm 농어의 무게도 마찬가지\n",
    "\n",
    "print(knr.predict([[100]]))"
   ]
  },
  {
   "cell_type": "code",
   "execution_count": 10,
   "id": "7aea81f7",
   "metadata": {},
   "outputs": [
    {
     "name": "stdout",
     "output_type": "stream",
     "text": [
      "[1241.83860323]\n"
     ]
    }
   ],
   "source": [
    "# 이러한 문제를 해결하기 위해 나온 모델이 선형 회귀(linear regression)\n",
    "\n",
    "from sklearn.linear_model import LinearRegression\n",
    "\n",
    "lr = LinearRegression()\n",
    "\n",
    "# 선형 회귀 모델을 훈련\n",
    "lr.fit(train_input, train_target)\n",
    "\n",
    "print(lr.predict([[50]]))"
   ]
  },
  {
   "cell_type": "markdown",
   "id": "8813d5d5",
   "metadata": {},
   "source": [
    "- 직선의 그래프를 그려 농어 데이터 샘플에 가장 적합한 직선을 찾아낸 것\n",
    "- 직선 그래프 : y = ax + b\n",
    "- y = 농어의 무게, x = 농어의 길이\n",
    "- LinearRegression 클래스는 가장 적합한 a, b의 값을 찾는 모델\n",
    "- lr 객체에 coef_, intercept_ 속성이 저장되어 있음\n",
    "- coef_ = a, intercept_ = b라고 할 수 있음"
   ]
  },
  {
   "cell_type": "code",
   "execution_count": 12,
   "id": "e62ec37c",
   "metadata": {
    "scrolled": true
   },
   "outputs": [
    {
     "name": "stdout",
     "output_type": "stream",
     "text": [
      "[39.01714496] -709.0186449535477\n"
     ]
    }
   ],
   "source": [
    "print(lr.coef_, lr.intercept_)"
   ]
  },
  {
   "cell_type": "markdown",
   "id": "7dfda207",
   "metadata": {},
   "source": [
    "- coef_, intercept_ 를 머신러닝 알고리즘이 찾은 값이라는 의미로 \"모델 파라미터\"라고 함\n",
    "- 많은 머신러닝 알고리즘의 훈련 과정은 이러한 최적의 모델 파라미터를 찾는 것과 같음\n",
    "- coef_ = a, intercept_ = b\n",
    "- 따라서 일차 방정식은 대략 : y = 39.02x - 709.02 이라고 할 수 있음"
   ]
  },
  {
   "cell_type": "code",
   "execution_count": 15,
   "id": "47e43fb2",
   "metadata": {},
   "outputs": [
    {
     "data": {
      "image/png": "[encoded data removed]",
      "text/plain": [
       "<Figure size 432x288 with 1 Axes>"
      ]
     },
     "metadata": {
      "needs_background": "light"
     },
     "output_type": "display_data"
    }
   ],
   "source": [
    "# 일차 방정식을 기존 농어 샘플 그래프 위에 그려보기\n",
    "\n",
    "plt.scatter(train_input, train_target)\n",
    "\n",
    "# 농어의 길이 15에서 50까지의 최적의 선형 회귀 직선 그래프를 그려보기\n",
    "# x = 농어의 길이이므로 y = 15a + b  그래프를 만들면 된다.\n",
    "plt.plot([15, 50], [15*lr.coef_+lr.intercept_, 50*lr.coef_+lr.intercept_])\n",
    "\n",
    "plt.scatter(50, 1241.8, marker='^')\n",
    "plt.xlabel('length')\n",
    "plt.ylabel('weight')\n",
    "\n",
    "plt.show()"
   ]
  },
  {
   "cell_type": "code",
   "execution_count": 16,
   "id": "7fca5663",
   "metadata": {},
   "outputs": [
    {
     "name": "stdout",
     "output_type": "stream",
     "text": [
      "0.939846333997604\n",
      "0.8247503123313558\n"
     ]
    }
   ],
   "source": [
    "# 점수 확인\n",
    "\n",
    "print(lr.score(train_input, train_target))\n",
    "print(lr.score(test_input, test_target))"
   ]
  },
  {
   "cell_type": "markdown",
   "id": "09546279",
   "metadata": {},
   "source": [
    "- 과대적합(overfitting)이 발생\n",
    "- 훈련 세트의 점수도 그리높지 않음\n",
    "- 산점도 그래프에서 볼 수 있듯이 농어 데이터 샘플의 분포가 직선보다는 이차방정식의 곡선 형태에 더욱 가까움\n",
    "- 게다가 y 절편(intercept_)는 음수가 나왔는데 y의 값(무게)가 음수가 될 수는 없음"
   ]
  },
  {
   "cell_type": "markdown",
   "id": "0a399210",
   "metadata": {},
   "source": [
    "## 다항 회귀\n",
    "- 선형 회귀의 곡선 형태\n",
    "\n",
    "- y = ax^ + bx + c\n",
    "- x = 농어의 길이 이므로 농어의 길이를 제곱한 데이터 또한 필요하기 때문에 기존 길이 데이터를 제곱해야함"
   ]
  },
  {
   "cell_type": "code",
   "execution_count": 17,
   "id": "c30f95cc",
   "metadata": {},
   "outputs": [],
   "source": [
    "# 길이 데이터들을 제곱한 값들을 이어 붙인 새로운 데이터 셋 만들기 \n",
    "\n",
    "train_poly = np.column_stack((train_input ** 2, train_input))\n",
    "test_poly = np.column_stack((test_input ** 2, test_input))"
   ]
  },
  {
   "cell_type": "code",
   "execution_count": 18,
   "id": "c06565ce",
   "metadata": {
    "scrolled": true
   },
   "outputs": [
    {
     "name": "stdout",
     "output_type": "stream",
     "text": [
      "(42, 2) (14, 2)\n"
     ]
    }
   ],
   "source": [
    "print(train_poly.shape, test_poly.shape)"
   ]
  },
  {
   "cell_type": "code",
   "execution_count": 20,
   "id": "ec9866d3",
   "metadata": {},
   "outputs": [
    {
     "name": "stdout",
     "output_type": "stream",
     "text": [
      "[1573.98423528]\n"
     ]
    }
   ],
   "source": [
    "# 새로운 데이터셋으로 새로운 선형회귀 모델 훈련하기\n",
    "\n",
    "lr = LinearRegression()\n",
    "\n",
    "lr.fit(train_poly, train_target)\n",
    "\n",
    "# 50cm 농어 무게 예측하기\n",
    "# 마찬가지로 예측할 새로운 샘플 또한 제곱한 값을 같이 넣어주어야 예측할 수 있음\n",
    "\n",
    "print(lr.predict([[50 **2, 50]]))"
   ]
  },
  {
   "cell_type": "code",
   "execution_count": 21,
   "id": "2aa8e6ec",
   "metadata": {
    "scrolled": true
   },
   "outputs": [
    {
     "name": "stdout",
     "output_type": "stream",
     "text": [
      "[  1.01433211 -21.55792498] 116.05021078278304\n"
     ]
    }
   ],
   "source": [
    "# y = ax^ + bx + c\n",
    "# 마찬가지로 a, b, c의 값은 lr 객체에 저장되어 있음\n",
    "\n",
    "print(lr.coef_, lr.intercept_)"
   ]
  },
  {
   "cell_type": "markdown",
   "id": "6f45bfdc",
   "metadata": {},
   "source": [
    "- y = 1.01x^ - 21.56x + 116.05"
   ]
  },
  {
   "cell_type": "code",
   "execution_count": 22,
   "id": "efdea81f",
   "metadata": {},
   "outputs": [
    {
     "data": {
      "image/png": "[encoded data removed]",
      "text/plain": [
       "<Figure size 432x288 with 1 Axes>"
      ]
     },
     "metadata": {
      "needs_background": "light"
     },
     "output_type": "display_data"
    }
   ],
   "source": [
    "# 마찬가지로 기존의 농어 데이터 샘플 그래프 위에 이차 방정식 그래프 얹어보기\n",
    "\n",
    "# 길이 15에서 50의 그래프로 나타내기\n",
    "point = np.arange(15, 50)\n",
    "\n",
    "plt.scatter(train_input, train_target)\n",
    "\n",
    "plt.plot(point, 1.01*point**2 - 21.6 * point + 116.05)\n",
    "# = plt.plot(point, point*lr.coef_[0]**2 + point*lr.coef_[1] + lr.intercept_)\n",
    "\n",
    "plt.scatter(50, 1574, marker='^')\n",
    "plt.xlabel('length')\n",
    "plt.ylabel('weight')\n",
    "\n",
    "plt.show()"
   ]
  },
  {
   "cell_type": "code",
   "execution_count": 23,
   "id": "a3d2da99",
   "metadata": {
    "scrolled": true
   },
   "outputs": [
    {
     "name": "stdout",
     "output_type": "stream",
     "text": [
      "0.9706807451768623\n",
      "0.9775935108325122\n"
     ]
    }
   ],
   "source": [
    "# 점수 확인\n",
    "\n",
    "print(lr.score(train_poly, train_target))\n",
    "print(lr.score(test_poly, test_target))"
   ]
  },
  {
   "cell_type": "markdown",
   "id": "5ee9df60",
   "metadata": {},
   "source": [
    "- 훨씬 더 높은 점수의 예측이 가능해졌음\n",
    "- 아직 약간의 과소적합이 발생했기 때문에 더욱 복잡한 모델 필요"
   ]
  }
 ],
 "metadata": {
  "kernelspec": {
   "display_name": "Python 3",
   "language": "python",
   "name": "python3"
  },
  "language_info": {
   "codemirror_mode": {
    "name": "ipython",
    "version": 3
   },
   "file_extension": ".py",
   "mimetype": "text/x-python",
   "name": "python",
   "nbconvert_exporter": "python",
   "pygments_lexer": "ipython3",
   "version": "3.8.8"
  }
 },
 "nbformat": 4,
 "nbformat_minor": 5
}
